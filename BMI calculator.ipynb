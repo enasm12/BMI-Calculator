{
 "cells": [
  {
   "cell_type": "code",
   "execution_count": 44,
   "id": "87a6e30a-001b-4cc3-89ba-1e71e4c2c566",
   "metadata": {},
   "outputs": [
    {
     "name": "stdin",
     "output_type": "stream",
     "text": [
      "Enter your name:  Randa\n",
      "Enter your weight in kg:  52\n",
      "Enter your height in cm:  157\n"
     ]
    },
    {
     "name": "stdout",
     "output_type": "stream",
     "text": [
      "21.1\n",
      "Randa, you are a healthy weight.\n"
     ]
    }
   ],
   "source": [
    "name =  input(\"Enter your name: \")\n",
    "weight = int(input(\"Enter your weight in kg: \"))\n",
    "height = int(input(\"Enter your height in cm: \"))\n",
    "BMI = weight / ((height/100)**2)\n",
    "\n",
    "print(round (BMI,2))\n",
    "\n",
    "if BMI >0:\n",
    "    if (BMI< 18.5):\n",
    "        print(name+ ', you are underweight.')\n",
    "    elif (BMI <= 24.9):\n",
    "        print(name+ ', you are a healthy weight.')\n",
    "    elif (BMI < 29.9):\n",
    "        print(name+ ', you are overweight.')\n",
    "    elif (BMI < 39.9):\n",
    "            print(name+ ', you are obese.')\n",
    "    elif (BMI >= 40):\n",
    "            print(name+ ', you are morbidly obese.')\n",
    "else: \n",
    "        print('Invalid input.')"
   ]
  },
  {
   "cell_type": "code",
   "execution_count": 4,
   "id": "3233e022-37ab-47a6-bbdc-5dd5e54449d5",
   "metadata": {},
   "outputs": [
    {
     "name": "stdout",
     "output_type": "stream",
     "text": [
      "58\n"
     ]
    }
   ],
   "source": [
    "print(weight)"
   ]
  },
  {
   "cell_type": "code",
   "execution_count": null,
   "id": "c63cfe25-0a5a-4b04-af54-a156aa2e020a",
   "metadata": {},
   "outputs": [],
   "source": []
  },
  {
   "cell_type": "code",
   "execution_count": null,
   "id": "cced64aa-1174-48f8-9276-b957af2d4307",
   "metadata": {},
   "outputs": [],
   "source": [
    "#BMI = weight in kilograms * height in metres squared"
   ]
  },
  {
   "cell_type": "code",
   "execution_count": 41,
   "id": "9fd8cdb6-b5f5-4190-a90d-528b267c20cd",
   "metadata": {},
   "outputs": [],
   "source": [
    "#below 18.5 – underweight \n",
    "#18.5 to 24.9 –  healthy weight \n",
    "#25 to 29.9 –  overweight \n",
    "#30 to 39.9 – obese\n",
    "#40 or above –  morbidly obese "
   ]
  },
  {
   "cell_type": "code",
   "execution_count": 39,
   "id": "a286835c-bfbd-4a9f-b448-3ee643fb221c",
   "metadata": {},
   "outputs": [
    {
     "name": "stdout",
     "output_type": "stream",
     "text": [
      "Enas, you are a healthy weight.\n"
     ]
    }
   ],
   "source": [
    "if BMI >0:\n",
    "    if (BMI< 18.5):\n",
    "        print(name+ ', you are underweight.')\n",
    "    elif (BMI <= 24.9):\n",
    "        print(name+ ', you are a healthy weight.')\n",
    "    elif (BMI < 29.9):\n",
    "        print(name+ ', you are overweight.')\n",
    "    elif (BMI < 39.9):\n",
    "            print(name+ ', you are obese.')\n",
    "    elif (BMI >= 40):\n",
    "            print(name+ ', you are morbidly obese.')\n",
    "else: \n",
    "        print('Enter valid inputs.')"
   ]
  },
  {
   "cell_type": "code",
   "execution_count": null,
   "id": "357b1bb0-8ae0-4f1f-ac7c-fc5bd4b2c135",
   "metadata": {},
   "outputs": [],
   "source": []
  },
  {
   "cell_type": "code",
   "execution_count": null,
   "id": "143cb2aa-08fa-4b1a-a112-04dc4ff97db4",
   "metadata": {},
   "outputs": [],
   "source": []
  },
  {
   "cell_type": "code",
   "execution_count": null,
   "id": "c58749bc-472f-427c-9e00-5b944b3dd5db",
   "metadata": {},
   "outputs": [],
   "source": []
  },
  {
   "cell_type": "code",
   "execution_count": null,
   "id": "25bb2933-2bfa-44d4-9443-f34587b0132e",
   "metadata": {},
   "outputs": [],
   "source": []
  }
 ],
 "metadata": {
  "kernelspec": {
   "display_name": "Python 3 (ipykernel)",
   "language": "python",
   "name": "python3"
  },
  "language_info": {
   "codemirror_mode": {
    "name": "ipython",
    "version": 3
   },
   "file_extension": ".py",
   "mimetype": "text/x-python",
   "name": "python",
   "nbconvert_exporter": "python",
   "pygments_lexer": "ipython3",
   "version": "3.12.7"
  }
 },
 "nbformat": 4,
 "nbformat_minor": 5
}
